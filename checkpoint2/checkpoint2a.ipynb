{
 "cells": [
  {
   "cell_type": "markdown",
   "metadata": {
    "colab_type": "text",
    "id": "0a8IYAJUshu1"
   },
   "source": [
    "# Exercises"
   ]
  },
  {
   "cell_type": "markdown",
   "metadata": {},
   "source": [
    "These exercises are a mix of Python and pandas/EDA practice. Most should be no more than a few lines of code! "
   ]
  },
  {
   "cell_type": "code",
   "execution_count": 23,
   "metadata": {
    "colab": {},
    "colab_type": "code",
    "id": "Jo6wuTgkshu1"
   },
   "outputs": [
    {
     "data": {
      "text/plain": [
       "[1, 4, 9, 16, 25, 36]"
      ]
     },
     "execution_count": 23,
     "metadata": {},
     "output_type": "execute_result"
    }
   ],
   "source": [
    "# here is a Python list:\n",
    "import numpy as np\n",
    "import pandas as pd\n",
    "\n",
    "a = [1, 2, 3, 4, 5, 6]\n",
    "\n",
    "# get a list containing the last 3 elements of a\n",
    "a[-3:]\n",
    "\n",
    "# reverse the list\n",
    "a[::-1]\n",
    "\n",
    "# get a list where each entry in a is squared (so the new list is [1, 4, 9, 16, 25, 36])\n",
    "[num ** 2 for num in a]"
   ]
  },
  {
   "cell_type": "code",
   "execution_count": 25,
   "metadata": {
    "colab": {},
    "colab_type": "code",
    "id": "qANtg5kQshu2"
   },
   "outputs": [
    {
     "data": {
      "text/plain": [
       "array([1, 2, 3, 4, 5, 6])"
      ]
     },
     "execution_count": 25,
     "metadata": {},
     "output_type": "execute_result"
    }
   ],
   "source": [
    "# create a numpy array from this list\n",
    "np.array(a) # change this"
   ]
  },
  {
   "cell_type": "code",
   "execution_count": 26,
   "metadata": {
    "colab": {},
    "colab_type": "code",
    "id": "91CXRflLshu4"
   },
   "outputs": [
    {
     "data": {
      "text/plain": [
       "3.5"
      ]
     },
     "execution_count": 26,
     "metadata": {},
     "output_type": "execute_result"
    }
   ],
   "source": [
    "# find the mean of b\n",
    "b.mean()"
   ]
  },
  {
   "cell_type": "code",
   "execution_count": 27,
   "metadata": {
    "colab": {},
    "colab_type": "code",
    "id": "ZJZFwzQfshu9"
   },
   "outputs": [
    {
     "data": {
      "text/plain": [
       "array([ 1,  4,  9, 16, 25, 36], dtype=int32)"
      ]
     },
     "execution_count": 27,
     "metadata": {},
     "output_type": "execute_result"
    }
   ],
   "source": [
    "# get a list where each entry in b is squared (so the new numpy array is [1, 4, 9, 16, 25, 36])\n",
    "# use a different (numpy-specific) approach\n",
    "np.square(a)"
   ]
  },
  {
   "cell_type": "code",
   "execution_count": 8,
   "metadata": {
    "colab": {},
    "colab_type": "code",
    "id": "ajbA5rCCshu5"
   },
   "outputs": [],
   "source": [
    "# change b from a length-6 list to a 2x3 matrix\n",
    "b = np.reshape(a,[2,3])"
   ]
  },
  {
   "cell_type": "code",
   "execution_count": 10,
   "metadata": {
    "colab": {},
    "colab_type": "code",
    "id": "wancU_PWshu6"
   },
   "outputs": [],
   "source": [
    "# find the mean value of each row\n",
    "mean = np.mean(b, axis = 1)"
   ]
  },
  {
   "cell_type": "code",
   "execution_count": null,
   "metadata": {
    "colab": {},
    "colab_type": "code",
    "id": "N3hXBrBtshu7"
   },
   "outputs": [],
   "source": [
    "# find the mean value of each column\n",
    "mean = np.mean(b, axis = 0)"
   ]
  },
  {
   "cell_type": "code",
   "execution_count": 11,
   "metadata": {
    "colab": {},
    "colab_type": "code",
    "id": "GvbO8gBXshu8"
   },
   "outputs": [
    {
     "name": "stdout",
     "output_type": "stream",
     "text": [
      "[3 6]\n"
     ]
    }
   ],
   "source": [
    "# find the third column of b\n",
    "third = b[:,2]"
   ]
  },
  {
   "cell_type": "code",
   "execution_count": 6,
   "metadata": {
    "colab": {},
    "colab_type": "code",
    "id": "WzCQ5HOJshvA"
   },
   "outputs": [],
   "source": [
    "# load in the \"starbucks_clean.csv\" dataset\n",
    "import pandas as pd\n",
    "df = pd.read_csv(\"../data/starbucks_clean.csv\")"
   ]
  },
  {
   "cell_type": "code",
   "execution_count": 7,
   "metadata": {
    "colab": {},
    "colab_type": "code",
    "id": "rIoxaSxHshvB"
   },
   "outputs": [],
   "source": [
    "# this is nutritional info for starbucks items\n",
    "# let's see if we can answer some questions\n",
    "\n",
    "# what is the average # calories across all items?\n",
    "average = df[\"calories\"].mean()"
   ]
  },
  {
   "cell_type": "code",
   "execution_count": 8,
   "metadata": {
    "colab": {},
    "colab_type": "code",
    "id": "ABX7i49FshvD"
   },
   "outputs": [
    {
     "name": "stdout",
     "output_type": "stream",
     "text": [
      "33\n"
     ]
    }
   ],
   "source": [
    "# how many different categories of beverages are there?\n",
    "print(len(df[\"beverage\"].unique()))"
   ]
  },
  {
   "cell_type": "code",
   "execution_count": 9,
   "metadata": {
    "colab": {},
    "colab_type": "code",
    "id": "P9QatZAzshvE"
   },
   "outputs": [
    {
     "data": {
      "text/plain": [
       "beverage\n",
       "banana chocolate smoothie                              290.000000\n",
       "brewed coffee                                            4.250000\n",
       "caffè americano                                         13.750000\n",
       "caffè latte                                            139.166667\n",
       "caffè mocha (without whipped cream)                    210.000000\n",
       "cappuccino                                              90.000000\n",
       "caramel                                                150.000000\n",
       "caramel (without whipped cream)                        268.888889\n",
       "caramel apple spice (without whipped cream)            247.500000\n",
       "caramel macchiato                                      184.166667\n",
       "coffee                                                 210.000000\n",
       "espresso                                                 7.500000\n",
       "hot chocolate (without whipped cream)                  236.666667\n",
       "iced brewed coffee (with classic syrup)                 93.333333\n",
       "iced brewed coffee (with milk & classic syrup)         122.222222\n",
       "java chip                                              220.000000\n",
       "java chip (without whipped cream)                      327.777778\n",
       "mocha                                                  156.666667\n",
       "mocha (without whipped cream)                          272.222222\n",
       "orange mango banana smoothie                           266.666667\n",
       "shaken iced tazo® tea (with classic syrup)              86.666667\n",
       "shaken iced tazo® tea lemonade (with classic syrup)    140.000000\n",
       "skinny latte (any flavour)                             110.000000\n",
       "strawberries & crème (without whipped cream)           248.888889\n",
       "strawberry banana smoothie                             290.000000\n",
       "tazo® chai tea latte                                   196.666667\n",
       "tazo® full-leaf red tea latte (vanilla rooibos)        148.333333\n",
       "tazo® full-leaf tea latte                              148.333333\n",
       "tazo® green tea latte                                  275.000000\n",
       "tazo® tea                                                0.000000\n",
       "vanilla bean (without whipped cream)                   197.500000\n",
       "vanilla latte (or other flavoured latte)               195.833333\n",
       "white chocolate mocha (without whipped cream)          330.000000\n",
       "Name: calories, dtype: float64"
      ]
     },
     "execution_count": 9,
     "metadata": {},
     "output_type": "execute_result"
    }
   ],
   "source": [
    "# what is the average # calories for each beverage category?\n",
    "groups = df.groupby(\"beverage\")\n",
    "groups[\"calories\"].mean()"
   ]
  },
  {
   "cell_type": "code",
   "execution_count": 10,
   "metadata": {
    "colab": {},
    "colab_type": "code",
    "id": "y8KEpYNkshvG"
   },
   "outputs": [
    {
     "data": {
      "text/plain": [
       "beverage_prep\n",
       "2% Milk               30.980000\n",
       "Doppio                 0.000000\n",
       "Grande                20.000000\n",
       "Grande Nonfat Milk    38.615385\n",
       "Short                  8.250000\n",
       "Short Nonfat Milk     17.000000\n",
       "Solo                   0.000000\n",
       "Soymilk               31.848485\n",
       "Tall                  14.714286\n",
       "Tall Nonfat Milk      28.521739\n",
       "Venti                 27.714286\n",
       "Venti Nonfat Milk     50.045455\n",
       "Whole Milk            55.687500\n",
       "Name: sugars , dtype: float64"
      ]
     },
     "execution_count": 10,
     "metadata": {},
     "output_type": "execute_result"
    }
   ],
   "source": [
    "# what beverage preparation includes the most sugar on average?\n",
    "groups = df.groupby(\"beverage_prep\")\n",
    "groups[\"sugars \"].mean()\n",
    "# Whole milk has the most sugar on average"
   ]
  },
  {
   "cell_type": "code",
   "execution_count": 11,
   "metadata": {
    "colab": {},
    "colab_type": "code",
    "id": "MnbCEJw8shvH"
   },
   "outputs": [
    {
     "data": {
      "text/plain": [
       "beverage\n",
       "banana chocolate smoothie                              20.000000\n",
       "brewed coffee                                           0.500000\n",
       "caffè americano                                         1.500000\n",
       "caffè latte                                            35.000000\n",
       "caffè mocha (without whipped cream)                    30.000000\n",
       "cappuccino                                             22.500000\n",
       "caramel                                                11.000000\n",
       "caramel (without whipped cream)                        12.000000\n",
       "caramel apple spice (without whipped cream)             0.000000\n",
       "caramel macchiato                                      28.333333\n",
       "coffee                                                 12.333333\n",
       "espresso                                                0.000000\n",
       "hot chocolate (without whipped cream)                  35.000000\n",
       "iced brewed coffee (with classic syrup)                 0.000000\n",
       "iced brewed coffee (with milk & classic syrup)          8.000000\n",
       "java chip                                              11.666667\n",
       "java chip (without whipped cream)                      12.555556\n",
       "mocha                                                  11.000000\n",
       "mocha (without whipped cream)                          12.000000\n",
       "orange mango banana smoothie                           10.000000\n",
       "shaken iced tazo® tea (with classic syrup)              0.000000\n",
       "shaken iced tazo® tea lemonade (with classic syrup)     0.000000\n",
       "skinny latte (any flavour)                             33.750000\n",
       "strawberries & crème (without whipped cream)           15.000000\n",
       "strawberry banana smoothie                             10.000000\n",
       "tazo® chai tea latte                                   21.666667\n",
       "tazo® full-leaf red tea latte (vanilla rooibos)        20.833333\n",
       "tazo® full-leaf tea latte                              20.833333\n",
       "tazo® green tea latte                                  39.166667\n",
       "tazo® tea                                               0.000000\n",
       "vanilla bean (without whipped cream)                   11.250000\n",
       "vanilla latte (or other flavoured latte)               32.916667\n",
       "white chocolate mocha (without whipped cream)          41.250000\n",
       "Name: calcium , dtype: float64"
      ]
     },
     "execution_count": 11,
     "metadata": {},
     "output_type": "execute_result"
    }
   ],
   "source": [
    "# what is the average % daily value calcium content for each beverage?\n",
    "groups = df.groupby(\"beverage\")\n",
    "groups[\"calcium \"].mean()"
   ]
  },
  {
   "cell_type": "code",
   "execution_count": 12,
   "metadata": {
    "colab": {},
    "colab_type": "code",
    "id": "Nv5dksj_shvJ"
   },
   "outputs": [
    {
     "data": {
      "text/plain": [
       "beverage_prep\n",
       "2% Milk               300\n",
       "Grande Nonfat Milk    280\n",
       "Soymilk               290\n",
       "Name: calories, dtype: int64"
      ]
     },
     "execution_count": 12,
     "metadata": {},
     "output_type": "execute_result"
    }
   ],
   "source": [
    "# It's bulking season. What drink should Naitian get so that he maximizes protein but minimizes calories?\n",
    "# (you can use more than one line for this one)\n",
    "# there are multiple valid approaches you can take for this (with different answers)\n",
    "# I know that you want more calories for bulking season but whatever this is MDST, not Michigan Muscle Club okay\n",
    "groups = df.groupby(\"beverage\")\n",
    "groups['protein '].max()\n",
    "# Find the beverage with highest protein , which is banana chocalate smoothie\n",
    "highest_protein = df[df['beverage'] == 'banana chocolate smoothie']\n",
    "groups2 = highest_protein.groupby(\"beverage_prep\")\n",
    "groups2['calories'].min()\n",
    "# Find its beverage preparation with lowest calories, which is with grande nonfat milk\n",
    "# So our drink is a banana chocalate smoothie with grande nonfat milk"
   ]
  },
  {
   "cell_type": "code",
   "execution_count": 13,
   "metadata": {},
   "outputs": [
    {
     "data": {
      "text/plain": [
       "<matplotlib.axes._subplots.AxesSubplot at 0x298b34b30d0>"
      ]
     },
     "execution_count": 13,
     "metadata": {},
     "output_type": "execute_result"
    },
    {
     "data": {
      "image/png": "[encoded data removed]",
      "text/plain": [
       "<Figure size 432x288 with 1 Axes>"
      ]
     },
     "metadata": {},
     "output_type": "display_data"
    }
   ],
   "source": [
    "# plot the distribution of the number of calories in drinks using matplotlib\n",
    "import matplotlib.pyplot as plt\n",
    "df[\"calories\"].plot.hist(bins=30)"
   ]
  },
  {
   "cell_type": "code",
   "execution_count": 16,
   "metadata": {},
   "outputs": [
    {
     "ename": "AttributeError",
     "evalue": "module 'seaborn' has no attribute 'displot'",
     "output_type": "error",
     "traceback": [
      "\u001b[1;31m---------------------------------------------------------------------------\u001b[0m",
      "\u001b[1;31mAttributeError\u001b[0m                            Traceback (most recent call last)",
      "\u001b[1;32m<ipython-input-16-5b784a4d4317>\u001b[0m in \u001b[0;36m<module>\u001b[1;34m\u001b[0m\n\u001b[0;32m      1\u001b[0m \u001b[1;31m# plot the same distribution using seaborn. what about a density plot instead?\u001b[0m\u001b[1;33m\u001b[0m\u001b[1;33m\u001b[0m\u001b[1;33m\u001b[0m\u001b[0m\n\u001b[0;32m      2\u001b[0m \u001b[1;32mimport\u001b[0m \u001b[0mseaborn\u001b[0m \u001b[1;32mas\u001b[0m \u001b[0msns\u001b[0m\u001b[1;33m\u001b[0m\u001b[1;33m\u001b[0m\u001b[0m\n\u001b[1;32m----> 3\u001b[1;33m \u001b[0msns\u001b[0m\u001b[1;33m.\u001b[0m\u001b[0mdisplot\u001b[0m\u001b[1;33m(\u001b[0m\u001b[0mdata\u001b[0m\u001b[1;33m=\u001b[0m\u001b[0mdf\u001b[0m\u001b[1;33m,\u001b[0m \u001b[0mx\u001b[0m\u001b[1;33m=\u001b[0m\u001b[1;34m\"calories\"\u001b[0m\u001b[1;33m,\u001b[0m \u001b[0mbins\u001b[0m\u001b[1;33m=\u001b[0m\u001b[1;36m30\u001b[0m\u001b[1;33m)\u001b[0m\u001b[1;33m\u001b[0m\u001b[1;33m\u001b[0m\u001b[0m\n\u001b[0m",
      "\u001b[1;31mAttributeError\u001b[0m: module 'seaborn' has no attribute 'displot'"
     ]
    }
   ],
   "source": [
    "# plot the same distribution using seaborn. what about a density plot instead?\n",
    "import seaborn as sns\n",
    "sns.set()\n",
    "sns.displot(data=df, x=\"calories\", bins=30)"
   ]
  },
  {
   "cell_type": "code",
   "execution_count": 15,
   "metadata": {},
   "outputs": [
    {
     "data": {
      "text/plain": [
       "<matplotlib.axes._subplots.AxesSubplot at 0x298ae5b81f0>"
      ]
     },
     "execution_count": 15,
     "metadata": {},
     "output_type": "execute_result"
    },
    {
     "data": {
      "image/png": "[encoded data removed]",
      "text/plain": [
       "<Figure size 432x288 with 1 Axes>"
      ]
     },
     "metadata": {},
     "output_type": "display_data"
    }
   ],
   "source": [
    "# plot calories against total fat using seaborn\n",
    "sns.scatterplot(data=df, x=\"total fat \", y=\"calories\")"
   ]
  },
  {
   "cell_type": "code",
   "execution_count": 88,
   "metadata": {},
   "outputs": [
    {
     "data": {
      "text/plain": [
       "Text(0.5, 1.0, 'distribution of calories in Short, Tall, Grande, and Venti drinks')"
      ]
     },
     "execution_count": 88,
     "metadata": {},
     "output_type": "execute_result"
    },
    {
     "data": {
      "image/png": "[encoded data removed]",
      "text/plain": [
       "<Figure size 432x288 with 1 Axes>"
      ]
     },
     "metadata": {},
     "output_type": "display_data"
    }
   ],
   "source": [
    "# plot the distribution of calories in Short, Tall, Grande, and Venti drinks\n",
    "# (you can use multiple lines for this)\n",
    "# twist: you should also include the Nonfat Milk drinks that also have an associated size.\n",
    "\n",
    "# you can decide how you want to visualize this. Colors? Small multiples? Density vs histogram?\n",
    "# the starbucks is your oyster.\n",
    "\n",
    "short_options = [\"Short\", \"Short Nonfat Milk\"]\n",
    "tall_options = [\"Tall\", \"Tall Nonfat Milk\"]\n",
    "grande_options = [\"Grande\", \"Grande Nonfat Milk\"]\n",
    "venti_options = [\"Venti\", \"Venti Nonfat Milk\"]\n",
    "\n",
    "short_drinks = df[df['beverage_prep'].isin(short_options)]\n",
    "tall_drinks = df[df['beverage_prep'].isin(tall_options)]\n",
    "grande_drinks = df[df['beverage_prep'].isin(grande_options)]\n",
    "venti_drinks = df[df['beverage_prep'].isin(venti_options)]\n",
    "\n",
    "plt.hist([short_drinks[\"calories\"], tall_drinks[\"calories\"], grande_drinks[\"calories\"], venti_drinks[\"calories\"]], \n",
    "         label=['short', 'tall', 'grande', 'venti'])\n",
    "plt.legend(loc='upper right')\n",
    "plt.xlabel(\"calories\")\n",
    "plt.ylabel(\"frequency\")\n",
    "plt.title(\"Distribution of Calories in Short, Tall, Grande, and Venti drinks\")\n"
   ]
  }
 ],
 "metadata": {
  "kernelspec": {
   "display_name": "Python 3",
   "language": "python",
   "name": "python3"
  },
  "language_info": {
   "codemirror_mode": {
    "name": "ipython",
    "version": 3
   },
   "file_extension": ".py",
   "mimetype": "text/x-python",
   "name": "python",
   "nbconvert_exporter": "python",
   "pygments_lexer": "ipython3",
   "version": "3.8.3"
  }
 },
 "nbformat": 4,
 "nbformat_minor": 5
}
